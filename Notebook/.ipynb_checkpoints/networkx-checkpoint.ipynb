{
 "cells": [
  {
   "cell_type": "code",
   "execution_count": 5,
   "id": "cf3753e7",
   "metadata": {},
   "outputs": [],
   "source": [
    "import networkx as nx\n",
    "G = nx.Graph()"
   ]
  },
  {
   "cell_type": "code",
   "execution_count": 1,
   "id": "5a9dae7d",
   "metadata": {},
   "outputs": [],
   "source": [
    "node1 = {'label_class':\"ego\"}"
   ]
  },
  {
   "cell_type": "code",
   "execution_count": 9,
   "id": "5b610554",
   "metadata": {},
   "outputs": [],
   "source": [
    "G.add_nodes_from([\n",
    "    (1, {\"label_class\": \"ego\"}),\n",
    "    (2, {\"label_class\": \"VEHICLE\"}),\n",
    "    (3, {\"label_class\": \"LANE\"}),\n",
    "    (4, {\"label_class\": \"LANE\"}),\n",
    "])"
   ]
  },
  {
   "cell_type": "code",
   "execution_count": 7,
   "id": "f4b502e5",
   "metadata": {},
   "outputs": [
    {
     "data": {
      "text/plain": [
       "[1, 2, 3, 4]"
      ]
     },
     "execution_count": 7,
     "metadata": {},
     "output_type": "execute_result"
    }
   ],
   "source": [
    "list(G.nodes)"
   ]
  },
  {
   "cell_type": "code",
   "execution_count": 10,
   "id": "d1f8dcb1",
   "metadata": {},
   "outputs": [],
   "source": [
    "G.add_edges_from([(1, 3, {'type': 'on'}), (2, 4, {'type': \"on\"}), (3, 4, {'type': \"leftOrRight\"})])"
   ]
  },
  {
   "cell_type": "code",
   "execution_count": 11,
   "id": "ca0a8081",
   "metadata": {},
   "outputs": [
    {
     "data": {
      "image/png": "[encoded data removed]",
      "text/plain": [
       "<Figure size 640x480 with 1 Axes>"
      ]
     },
     "metadata": {},
     "output_type": "display_data"
    }
   ],
   "source": [
    "import matplotlib.pyplot as plt\n",
    "nx.draw(G, with_labels=True, font_weight='bold')"
   ]
  },
  {
   "cell_type": "code",
   "execution_count": 12,
   "id": "30472dbd",
   "metadata": {},
   "outputs": [],
   "source": [
    "G_ =  nx.Graph()\n",
    "G_.add_nodes_from([\n",
    "    (2, {\"label_class\": \"ego\"}),\n",
    "    (1, {\"label_class\": \"VEHICLE\"}),\n",
    "    (3, {\"label_class\": \"LANE\"}),\n",
    "    (4, {\"label_class\": \"LANE\"}),\n",
    "])\n",
    "G_.add_edges_from([(2, 3, {'type': 'on'}), (1, 4, {'type': \"on\"}), (3, 4, {'type': \"leftOrRight\"})])"
   ]
  },
  {
   "cell_type": "code",
   "execution_count": 14,
   "id": "06cc6eda",
   "metadata": {},
   "outputs": [
    {
     "data": {
      "text/plain": [
       "True"
      ]
     },
     "execution_count": 14,
     "metadata": {},
     "output_type": "execute_result"
    }
   ],
   "source": [
    "nx.is_isomorphic(G, G_)"
   ]
  },
  {
   "cell_type": "code",
   "execution_count": null,
   "id": "7eb9cf42",
   "metadata": {},
   "outputs": [],
   "source": []
  }
 ],
 "metadata": {
  "kernelspec": {
   "display_name": "Python 3 (ipykernel)",
   "language": "python",
   "name": "python3"
  },
  "language_info": {
   "codemirror_mode": {
    "name": "ipython",
    "version": 3
   },
   "file_extension": ".py",
   "mimetype": "text/x-python",
   "name": "python",
   "nbconvert_exporter": "python",
   "pygments_lexer": "ipython3",
   "version": "3.9.12"
  },
  "toc": {
   "base_numbering": 1,
   "nav_menu": {},
   "number_sections": true,
   "sideBar": true,
   "skip_h1_title": false,
   "title_cell": "Table of Contents",
   "title_sidebar": "Contents",
   "toc_cell": false,
   "toc_position": {},
   "toc_section_display": true,
   "toc_window_display": false
  }
 },
 "nbformat": 4,
 "nbformat_minor": 5
}
