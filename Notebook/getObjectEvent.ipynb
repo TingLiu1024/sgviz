{
 "cells": [
  {
   "cell_type": "code",
   "execution_count": 1,
   "id": "83a4d0a6",
   "metadata": {},
   "outputs": [],
   "source": [
    "# track_label_uuid frame  label_class event:\n",
    "# {\"object\":[]\n",
    "# \"ego\":[]\n",
    "# }\n",
    "#  behaviours\n",
    "import os\n",
    "import pandas as pd\n",
    "import warnings\n",
    "import copy\n",
    "warnings.filterwarnings('ignore')\n",
    "from ast import literal_eval\n",
    "import numpy as np\n",
    "import plotly.graph_objects as go\n",
    "import itertools\n",
    "import json"
   ]
  },
  {
   "cell_type": "code",
   "execution_count": null,
   "id": "39668879",
   "metadata": {},
   "outputs": [],
   "source": [
    "dataDir = '../datasets/fdgData/'\n",
    "outputDir = \"../datasets/behaviour/\"\n",
    "videoNum = 0\n",
    "resFdgAll = {}\n",
    "\n",
    "\n",
    "if not os.path.exists(outputDir ):\n",
    "    os.mkdir(outputDir )\n",
    "\n",
    "fileList =  os.listdir(dataDir ) \n",
    "# print(subDfList)\n",
    "\n",
    "for filename in fileList[0:1]:\n",
    "    if 'train' in filename:\n",
    "        continue\n",
    "    f = open(dataDir  + filename)\n",
    "    fdg = json.load(f)\n",
    "    framesLen = len(fdg.keys())"
   ]
  }
 ],
 "metadata": {
  "kernelspec": {
   "display_name": "Python 3 (ipykernel)",
   "language": "python",
   "name": "python3"
  },
  "language_info": {
   "codemirror_mode": {
    "name": "ipython",
    "version": 3
   },
   "file_extension": ".py",
   "mimetype": "text/x-python",
   "name": "python",
   "nbconvert_exporter": "python",
   "pygments_lexer": "ipython3",
   "version": "3.9.12"
  },
  "toc": {
   "base_numbering": 1,
   "nav_menu": {},
   "number_sections": true,
   "sideBar": true,
   "skip_h1_title": false,
   "title_cell": "Table of Contents",
   "title_sidebar": "Contents",
   "toc_cell": false,
   "toc_position": {},
   "toc_section_display": true,
   "toc_window_display": false
  }
 },
 "nbformat": 4,
 "nbformat_minor": 5
}
