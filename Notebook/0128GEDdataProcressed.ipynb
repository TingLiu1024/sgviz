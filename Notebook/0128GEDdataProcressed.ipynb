{
 "cells": [
  {
   "cell_type": "code",
   "execution_count": 1,
   "metadata": {},
   "outputs": [
    {
     "name": "stdout",
     "output_type": "stream",
     "text": [
      "2884\n"
     ]
    }
   ],
   "source": [
    "import os\n",
    "import json\n",
    "distanceDir = \"../public/procressData/distance/\"\n",
    "needed = []\n",
    "for i in range(3214):\n",
    "    if not os.path.exists(f\"{distanceDir}{i}.json\"):\n",
    "        needed.append(i)\n",
    "print(len(needed))\n",
    "jsonWriter = open(\"unCalIndex.json\", 'w')\n",
    "\n",
    "jsonWriter.write(json.dumps(needed))\n",
    "jsonWriter.close()"
   ]
  },
  {
   "cell_type": "code",
   "execution_count": null,
   "metadata": {},
   "outputs": [],
   "source": []
  }
 ],
 "metadata": {
  "kernelspec": {
   "display_name": "base",
   "language": "python",
   "name": "python3"
  },
  "language_info": {
   "name": "python",
   "version": "3.9.12 (main, Apr  4 2022, 05:22:27) [MSC v.1916 64 bit (AMD64)]"
  },
  "orig_nbformat": 4,
  "vscode": {
   "interpreter": {
    "hash": "5179d32cf6ec497baf3f8a3ef987cc77c5d2dc691fdde20a56316522f61a7323"
   }
  }
 },
 "nbformat": 4,
 "nbformat_minor": 2
}
