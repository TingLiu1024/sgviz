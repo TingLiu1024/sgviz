{
 "cells": [
  {
   "cell_type": "markdown",
   "id": "45334b4d",
   "metadata": {},
   "source": [
    "节点较多时取连通部分算"
   ]
  },
  {
   "cell_type": "code",
   "execution_count": 2,
   "id": "a7097b20",
   "metadata": {},
   "outputs": [],
   "source": [
    "try:   \n",
    "    distance = 1 + 1 + 1\n",
    "except:\n",
    "    print(1)\n",
    "    distance = None"
   ]
  },
  {
   "cell_type": "code",
   "execution_count": 3,
   "id": "be179fe8",
   "metadata": {},
   "outputs": [
    {
     "name": "stdout",
     "output_type": "stream",
     "text": [
      "2992\n"
     ]
    }
   ],
   "source": [
    "\n"
   ]
  },
  {
   "cell_type": "code",
   "execution_count": 1,
   "id": "9403b438",
   "metadata": {},
   "outputs": [
    {
     "name": "stdout",
     "output_type": "stream",
     "text": [
      "47\n"
     ]
    }
   ],
   "source": [
    "import pandas as pd\n",
    "import json\n",
    "import math\n",
    "import datetime\n",
    "import multiprocessing as mp\n",
    "import numpy as np\n",
    "import pickle\n",
    "import networkx as nx\n",
    "\n",
    "\n",
    "\n",
    "import time\n",
    "import datetime\n",
    "\n",
    "\n",
    "# 读取数据\n",
    "allFrmIndexDict = {}\n",
    "idx = 0\n",
    "with open('../public/data.pickle', 'rb') as f:\n",
    "    networkData = pickle.load(f)\n",
    "    allGraph = {}\n",
    "    for logId in list(networkData.keys()):\n",
    "        logData = networkData[logId]\n",
    "        graphData = {}\n",
    "        for frm in logData[\"frames\"]:\n",
    "            G = nx.Graph()\n",
    "            G.add_nodes_from(logData[str(frm)][\"nodes\"])\n",
    "            G.add_edges_from(logData[str(frm)][\"edges\"])\n",
    "            graphData[str(frm)] = {'graph': G, 'egoInfos': logData[str(frm)][\"ego\"]}\n",
    "            allFrmIndexDict[idx] = {'logId':logId, 'frame':frm}\n",
    "            idx += 1\n",
    "        allGraph[logId] = graphData\n",
    "logList = list(networkData.keys())\n",
    "print(len(logList))"
   ]
  },
  {
   "cell_type": "code",
   "execution_count": 2,
   "id": "c019734b",
   "metadata": {},
   "outputs": [],
   "source": [
    "# networkData[\"02cf0ce1-699a-373b-86c0-eb6fd5f4697a\"][\"frames\"]"
   ]
  },
  {
   "cell_type": "code",
   "execution_count": 3,
   "id": "11071f69",
   "metadata": {},
   "outputs": [],
   "source": [
    "# graph_ = allGraph[\"26d141ec-f952-3908-b4cc-ae359377424e\"]['0']['graph']"
   ]
  },
  {
   "cell_type": "code",
   "execution_count": 4,
   "id": "39d9db63",
   "metadata": {},
   "outputs": [],
   "source": [
    "# nodes_num = len(graph_.nodes)\n",
    "# nodes_num\n",
    "# VEHNUM = 0\n",
    "# PEONUM = 0\n",
    "# coms = []\n",
    "# for c in nx.connected_components(graph_):\n",
    "#     if len(c)==1:\n",
    "#         nodeG = graph_.subgraph(c).copy()\n",
    "#         if nodeG.nodes[list(c)[0]][\"label_class\"]==\"VEHICLE\":\n",
    "#             VEHNUM += 1\n",
    "#         else:\n",
    "#             PEONUM += 1\n",
    "#     else:\n",
    "#         coms.append(graph_.subgraph(c).copy())\n",
    "# edgesGraph = nx.Graph()\n",
    "# for g_ in coms:\n",
    "#     edgesGraph = nx.union(edgesGraph, g_)\n",
    "# print(VEHNUM, PEONUM, coms)"
   ]
  },
  {
   "cell_type": "code",
   "execution_count": 5,
   "id": "1de3fc00",
   "metadata": {},
   "outputs": [],
   "source": [
    "def get_simpleGraph(graph_):\n",
    "    VEHNUM = 0\n",
    "    PEONUM = 0\n",
    "    coms = []\n",
    "    for c in nx.connected_components(graph_):\n",
    "        if len(c)==1:\n",
    "            nodeG = graph_.subgraph(c).copy()\n",
    "            if nodeG.nodes[list(c)[0]][\"label_class\"]==\"VEHICLE\":\n",
    "                VEHNUM += 1\n",
    "            elif nodeG.nodes[list(c)[0]][\"label_class\"]==\"PEOPLE\":\n",
    "                PEONUM += 1\n",
    "            else: # ego游离\n",
    "                coms.append(graph_.subgraph(c).copy())\n",
    "        else:\n",
    "            coms.append(graph_.subgraph(c).copy())\n",
    "    edgesGraph = nx.Graph()\n",
    "    for g_ in coms:\n",
    "        edgesGraph = nx.union(edgesGraph, g_)\n",
    "    return VEHNUM, PEONUM, edgesGraph"
   ]
  },
  {
   "cell_type": "code",
   "execution_count": 6,
   "id": "92592426",
   "metadata": {},
   "outputs": [],
   "source": [
    "for logId in allGraph.keys():\n",
    "    for frm in allGraph[logId].keys():\n",
    "        gra = allGraph[logId][frm]['graph']\n",
    "        freeVEH , freePEO, edgesGraph = get_simpleGraph(gra)\n",
    "        allGraph[logId][frm][\"nodes_num\"] = len(allGraph[logId][frm]['graph'].nodes)\n",
    "        allGraph[logId][frm]['freeVeh'] = freeVEH\n",
    "        allGraph[logId][frm]['freePeo'] = freePEO\n",
    "        allGraph[logId][frm]['edgesGraph'] = edgesGraph\n",
    "    "
   ]
  },
  {
   "cell_type": "code",
   "execution_count": 7,
   "id": "6935d153",
   "metadata": {},
   "outputs": [
    {
     "data": {
      "text/html": [
       "<div>\n",
       "<style scoped>\n",
       "    .dataframe tbody tr th:only-of-type {\n",
       "        vertical-align: middle;\n",
       "    }\n",
       "\n",
       "    .dataframe tbody tr th {\n",
       "        vertical-align: top;\n",
       "    }\n",
       "\n",
       "    .dataframe thead th {\n",
       "        text-align: right;\n",
       "    }\n",
       "</style>\n",
       "<table border=\"1\" class=\"dataframe\">\n",
       "  <thead>\n",
       "    <tr style=\"text-align: right;\">\n",
       "      <th></th>\n",
       "      <th>Keys</th>\n",
       "      <th>same_frame</th>\n",
       "      <th>logId</th>\n",
       "      <th>frame</th>\n",
       "    </tr>\n",
       "  </thead>\n",
       "  <tbody>\n",
       "    <tr>\n",
       "      <th>0</th>\n",
       "      <td>'02cf0ce1-699a-373b-86c0-eb6fd5f4697a', 0</td>\n",
       "      <td>0</td>\n",
       "      <td>02cf0ce1-699a-373b-86c0-eb6fd5f4697a</td>\n",
       "      <td>0</td>\n",
       "    </tr>\n",
       "    <tr>\n",
       "      <th>1</th>\n",
       "      <td>'02cf0ce1-699a-373b-86c0-eb6fd5f4697a', 1</td>\n",
       "      <td>1</td>\n",
       "      <td>02cf0ce1-699a-373b-86c0-eb6fd5f4697a</td>\n",
       "      <td>1</td>\n",
       "    </tr>\n",
       "    <tr>\n",
       "      <th>2</th>\n",
       "      <td>'02cf0ce1-699a-373b-86c0-eb6fd5f4697a', 2</td>\n",
       "      <td>1</td>\n",
       "      <td>02cf0ce1-699a-373b-86c0-eb6fd5f4697a</td>\n",
       "      <td>2</td>\n",
       "    </tr>\n",
       "    <tr>\n",
       "      <th>3</th>\n",
       "      <td>'02cf0ce1-699a-373b-86c0-eb6fd5f4697a', 3</td>\n",
       "      <td>1</td>\n",
       "      <td>02cf0ce1-699a-373b-86c0-eb6fd5f4697a</td>\n",
       "      <td>3</td>\n",
       "    </tr>\n",
       "    <tr>\n",
       "      <th>4</th>\n",
       "      <td>'02cf0ce1-699a-373b-86c0-eb6fd5f4697a', 4</td>\n",
       "      <td>1</td>\n",
       "      <td>02cf0ce1-699a-373b-86c0-eb6fd5f4697a</td>\n",
       "      <td>4</td>\n",
       "    </tr>\n",
       "    <tr>\n",
       "      <th>...</th>\n",
       "      <td>...</td>\n",
       "      <td>...</td>\n",
       "      <td>...</td>\n",
       "      <td>...</td>\n",
       "    </tr>\n",
       "    <tr>\n",
       "      <th>8167</th>\n",
       "      <td>'ff78e1a3-6deb-34a4-9a1f-b85e34980f06', 151</td>\n",
       "      <td>150</td>\n",
       "      <td>ff78e1a3-6deb-34a4-9a1f-b85e34980f06</td>\n",
       "      <td>151</td>\n",
       "    </tr>\n",
       "    <tr>\n",
       "      <th>8168</th>\n",
       "      <td>'ff78e1a3-6deb-34a4-9a1f-b85e34980f06', 152</td>\n",
       "      <td>150</td>\n",
       "      <td>ff78e1a3-6deb-34a4-9a1f-b85e34980f06</td>\n",
       "      <td>152</td>\n",
       "    </tr>\n",
       "    <tr>\n",
       "      <th>8169</th>\n",
       "      <td>'ff78e1a3-6deb-34a4-9a1f-b85e34980f06', 153</td>\n",
       "      <td>150</td>\n",
       "      <td>ff78e1a3-6deb-34a4-9a1f-b85e34980f06</td>\n",
       "      <td>153</td>\n",
       "    </tr>\n",
       "    <tr>\n",
       "      <th>8170</th>\n",
       "      <td>'ff78e1a3-6deb-34a4-9a1f-b85e34980f06', 154</td>\n",
       "      <td>150</td>\n",
       "      <td>ff78e1a3-6deb-34a4-9a1f-b85e34980f06</td>\n",
       "      <td>154</td>\n",
       "    </tr>\n",
       "    <tr>\n",
       "      <th>8171</th>\n",
       "      <td>'ff78e1a3-6deb-34a4-9a1f-b85e34980f06', 155</td>\n",
       "      <td>150</td>\n",
       "      <td>ff78e1a3-6deb-34a4-9a1f-b85e34980f06</td>\n",
       "      <td>155</td>\n",
       "    </tr>\n",
       "  </tbody>\n",
       "</table>\n",
       "<p>8172 rows × 4 columns</p>\n",
       "</div>"
      ],
      "text/plain": [
       "                                             Keys  same_frame  \\\n",
       "0       '02cf0ce1-699a-373b-86c0-eb6fd5f4697a', 0           0   \n",
       "1       '02cf0ce1-699a-373b-86c0-eb6fd5f4697a', 1           1   \n",
       "2       '02cf0ce1-699a-373b-86c0-eb6fd5f4697a', 2           1   \n",
       "3       '02cf0ce1-699a-373b-86c0-eb6fd5f4697a', 3           1   \n",
       "4       '02cf0ce1-699a-373b-86c0-eb6fd5f4697a', 4           1   \n",
       "...                                           ...         ...   \n",
       "8167  'ff78e1a3-6deb-34a4-9a1f-b85e34980f06', 151         150   \n",
       "8168  'ff78e1a3-6deb-34a4-9a1f-b85e34980f06', 152         150   \n",
       "8169  'ff78e1a3-6deb-34a4-9a1f-b85e34980f06', 153         150   \n",
       "8170  'ff78e1a3-6deb-34a4-9a1f-b85e34980f06', 154         150   \n",
       "8171  'ff78e1a3-6deb-34a4-9a1f-b85e34980f06', 155         150   \n",
       "\n",
       "                                     logId  frame  \n",
       "0     02cf0ce1-699a-373b-86c0-eb6fd5f4697a      0  \n",
       "1     02cf0ce1-699a-373b-86c0-eb6fd5f4697a      1  \n",
       "2     02cf0ce1-699a-373b-86c0-eb6fd5f4697a      2  \n",
       "3     02cf0ce1-699a-373b-86c0-eb6fd5f4697a      3  \n",
       "4     02cf0ce1-699a-373b-86c0-eb6fd5f4697a      4  \n",
       "...                                    ...    ...  \n",
       "8167  ff78e1a3-6deb-34a4-9a1f-b85e34980f06    151  \n",
       "8168  ff78e1a3-6deb-34a4-9a1f-b85e34980f06    152  \n",
       "8169  ff78e1a3-6deb-34a4-9a1f-b85e34980f06    153  \n",
       "8170  ff78e1a3-6deb-34a4-9a1f-b85e34980f06    154  \n",
       "8171  ff78e1a3-6deb-34a4-9a1f-b85e34980f06    155  \n",
       "\n",
       "[8172 rows x 4 columns]"
      ]
     },
     "execution_count": 7,
     "metadata": {},
     "output_type": "execute_result"
    }
   ],
   "source": [
    "same_frame_df = pd.read_csv(\"../public/procressData/same_frame_relationship.csv\")\n",
    "print(len(same_frame_df.logId.unique()))\n",
    "same_frame_df"
   ]
  },
  {
   "cell_type": "code",
   "execution_count": 8,
   "id": "cf3ae1cd",
   "metadata": {},
   "outputs": [
    {
     "data": {
      "text/plain": [
       "47"
      ]
     },
     "execution_count": 8,
     "metadata": {},
     "output_type": "execute_result"
    }
   ],
   "source": []
  },
  {
   "cell_type": "code",
   "execution_count": 10,
   "id": "8efce286",
   "metadata": {},
   "outputs": [
    {
     "name": "stdout",
     "output_type": "stream",
     "text": [
      "3214\n"
     ]
    },
    {
     "data": {
      "text/html": [
       "<div>\n",
       "<style scoped>\n",
       "    .dataframe tbody tr th:only-of-type {\n",
       "        vertical-align: middle;\n",
       "    }\n",
       "\n",
       "    .dataframe tbody tr th {\n",
       "        vertical-align: top;\n",
       "    }\n",
       "\n",
       "    .dataframe thead th {\n",
       "        text-align: right;\n",
       "    }\n",
       "</style>\n",
       "<table border=\"1\" class=\"dataframe\">\n",
       "  <thead>\n",
       "    <tr style=\"text-align: right;\">\n",
       "      <th></th>\n",
       "      <th>Keys</th>\n",
       "      <th>same_frame</th>\n",
       "      <th>logId</th>\n",
       "      <th>frame</th>\n",
       "    </tr>\n",
       "  </thead>\n",
       "  <tbody>\n",
       "    <tr>\n",
       "      <th>0</th>\n",
       "      <td>'02cf0ce1-699a-373b-86c0-eb6fd5f4697a', 0</td>\n",
       "      <td>0</td>\n",
       "      <td>02cf0ce1-699a-373b-86c0-eb6fd5f4697a</td>\n",
       "      <td>0</td>\n",
       "    </tr>\n",
       "    <tr>\n",
       "      <th>1</th>\n",
       "      <td>'02cf0ce1-699a-373b-86c0-eb6fd5f4697a', 1</td>\n",
       "      <td>1</td>\n",
       "      <td>02cf0ce1-699a-373b-86c0-eb6fd5f4697a</td>\n",
       "      <td>1</td>\n",
       "    </tr>\n",
       "    <tr>\n",
       "      <th>2</th>\n",
       "      <td>'02cf0ce1-699a-373b-86c0-eb6fd5f4697a', 32</td>\n",
       "      <td>32</td>\n",
       "      <td>02cf0ce1-699a-373b-86c0-eb6fd5f4697a</td>\n",
       "      <td>32</td>\n",
       "    </tr>\n",
       "    <tr>\n",
       "      <th>3</th>\n",
       "      <td>'02cf0ce1-699a-373b-86c0-eb6fd5f4697a', 49</td>\n",
       "      <td>49</td>\n",
       "      <td>02cf0ce1-699a-373b-86c0-eb6fd5f4697a</td>\n",
       "      <td>49</td>\n",
       "    </tr>\n",
       "    <tr>\n",
       "      <th>4</th>\n",
       "      <td>'02cf0ce1-699a-373b-86c0-eb6fd5f4697a', 59</td>\n",
       "      <td>59</td>\n",
       "      <td>02cf0ce1-699a-373b-86c0-eb6fd5f4697a</td>\n",
       "      <td>59</td>\n",
       "    </tr>\n",
       "    <tr>\n",
       "      <th>5</th>\n",
       "      <td>'02cf0ce1-699a-373b-86c0-eb6fd5f4697a', 65</td>\n",
       "      <td>65</td>\n",
       "      <td>02cf0ce1-699a-373b-86c0-eb6fd5f4697a</td>\n",
       "      <td>65</td>\n",
       "    </tr>\n",
       "    <tr>\n",
       "      <th>6</th>\n",
       "      <td>'02cf0ce1-699a-373b-86c0-eb6fd5f4697a', 72</td>\n",
       "      <td>72</td>\n",
       "      <td>02cf0ce1-699a-373b-86c0-eb6fd5f4697a</td>\n",
       "      <td>72</td>\n",
       "    </tr>\n",
       "    <tr>\n",
       "      <th>7</th>\n",
       "      <td>'02cf0ce1-699a-373b-86c0-eb6fd5f4697a', 84</td>\n",
       "      <td>84</td>\n",
       "      <td>02cf0ce1-699a-373b-86c0-eb6fd5f4697a</td>\n",
       "      <td>84</td>\n",
       "    </tr>\n",
       "    <tr>\n",
       "      <th>8</th>\n",
       "      <td>'02cf0ce1-699a-373b-86c0-eb6fd5f4697a', 87</td>\n",
       "      <td>87</td>\n",
       "      <td>02cf0ce1-699a-373b-86c0-eb6fd5f4697a</td>\n",
       "      <td>87</td>\n",
       "    </tr>\n",
       "    <tr>\n",
       "      <th>9</th>\n",
       "      <td>'02cf0ce1-699a-373b-86c0-eb6fd5f4697a', 88</td>\n",
       "      <td>88</td>\n",
       "      <td>02cf0ce1-699a-373b-86c0-eb6fd5f4697a</td>\n",
       "      <td>88</td>\n",
       "    </tr>\n",
       "    <tr>\n",
       "      <th>10</th>\n",
       "      <td>'02cf0ce1-699a-373b-86c0-eb6fd5f4697a', 93</td>\n",
       "      <td>93</td>\n",
       "      <td>02cf0ce1-699a-373b-86c0-eb6fd5f4697a</td>\n",
       "      <td>93</td>\n",
       "    </tr>\n",
       "    <tr>\n",
       "      <th>11</th>\n",
       "      <td>'02cf0ce1-699a-373b-86c0-eb6fd5f4697a', 99</td>\n",
       "      <td>99</td>\n",
       "      <td>02cf0ce1-699a-373b-86c0-eb6fd5f4697a</td>\n",
       "      <td>99</td>\n",
       "    </tr>\n",
       "    <tr>\n",
       "      <th>12</th>\n",
       "      <td>'02cf0ce1-699a-373b-86c0-eb6fd5f4697a', 114</td>\n",
       "      <td>114</td>\n",
       "      <td>02cf0ce1-699a-373b-86c0-eb6fd5f4697a</td>\n",
       "      <td>114</td>\n",
       "    </tr>\n",
       "    <tr>\n",
       "      <th>13</th>\n",
       "      <td>'02cf0ce1-699a-373b-86c0-eb6fd5f4697a', 116</td>\n",
       "      <td>116</td>\n",
       "      <td>02cf0ce1-699a-373b-86c0-eb6fd5f4697a</td>\n",
       "      <td>116</td>\n",
       "    </tr>\n",
       "    <tr>\n",
       "      <th>14</th>\n",
       "      <td>'02cf0ce1-699a-373b-86c0-eb6fd5f4697a', 125</td>\n",
       "      <td>125</td>\n",
       "      <td>02cf0ce1-699a-373b-86c0-eb6fd5f4697a</td>\n",
       "      <td>125</td>\n",
       "    </tr>\n",
       "    <tr>\n",
       "      <th>15</th>\n",
       "      <td>'02cf0ce1-699a-373b-86c0-eb6fd5f4697a', 126</td>\n",
       "      <td>126</td>\n",
       "      <td>02cf0ce1-699a-373b-86c0-eb6fd5f4697a</td>\n",
       "      <td>126</td>\n",
       "    </tr>\n",
       "    <tr>\n",
       "      <th>16</th>\n",
       "      <td>'02cf0ce1-699a-373b-86c0-eb6fd5f4697a', 135</td>\n",
       "      <td>135</td>\n",
       "      <td>02cf0ce1-699a-373b-86c0-eb6fd5f4697a</td>\n",
       "      <td>135</td>\n",
       "    </tr>\n",
       "    <tr>\n",
       "      <th>17</th>\n",
       "      <td>'02cf0ce1-699a-373b-86c0-eb6fd5f4697a', 138</td>\n",
       "      <td>138</td>\n",
       "      <td>02cf0ce1-699a-373b-86c0-eb6fd5f4697a</td>\n",
       "      <td>138</td>\n",
       "    </tr>\n",
       "    <tr>\n",
       "      <th>18</th>\n",
       "      <td>'02cf0ce1-699a-373b-86c0-eb6fd5f4697a', 142</td>\n",
       "      <td>142</td>\n",
       "      <td>02cf0ce1-699a-373b-86c0-eb6fd5f4697a</td>\n",
       "      <td>142</td>\n",
       "    </tr>\n",
       "    <tr>\n",
       "      <th>19</th>\n",
       "      <td>'02cf0ce1-699a-373b-86c0-eb6fd5f4697a', 145</td>\n",
       "      <td>145</td>\n",
       "      <td>02cf0ce1-699a-373b-86c0-eb6fd5f4697a</td>\n",
       "      <td>145</td>\n",
       "    </tr>\n",
       "    <tr>\n",
       "      <th>20</th>\n",
       "      <td>'02cf0ce1-699a-373b-86c0-eb6fd5f4697a', 146</td>\n",
       "      <td>146</td>\n",
       "      <td>02cf0ce1-699a-373b-86c0-eb6fd5f4697a</td>\n",
       "      <td>146</td>\n",
       "    </tr>\n",
       "    <tr>\n",
       "      <th>21</th>\n",
       "      <td>'02cf0ce1-699a-373b-86c0-eb6fd5f4697a', 151</td>\n",
       "      <td>151</td>\n",
       "      <td>02cf0ce1-699a-373b-86c0-eb6fd5f4697a</td>\n",
       "      <td>151</td>\n",
       "    </tr>\n",
       "    <tr>\n",
       "      <th>22</th>\n",
       "      <td>'043aeba7-14e5-3cde-8a5c-639389b6d3a6', 0</td>\n",
       "      <td>0</td>\n",
       "      <td>043aeba7-14e5-3cde-8a5c-639389b6d3a6</td>\n",
       "      <td>0</td>\n",
       "    </tr>\n",
       "    <tr>\n",
       "      <th>23</th>\n",
       "      <td>'043aeba7-14e5-3cde-8a5c-639389b6d3a6', 1</td>\n",
       "      <td>1</td>\n",
       "      <td>043aeba7-14e5-3cde-8a5c-639389b6d3a6</td>\n",
       "      <td>1</td>\n",
       "    </tr>\n",
       "    <tr>\n",
       "      <th>24</th>\n",
       "      <td>'043aeba7-14e5-3cde-8a5c-639389b6d3a6', 2</td>\n",
       "      <td>2</td>\n",
       "      <td>043aeba7-14e5-3cde-8a5c-639389b6d3a6</td>\n",
       "      <td>2</td>\n",
       "    </tr>\n",
       "  </tbody>\n",
       "</table>\n",
       "</div>"
      ],
      "text/plain": [
       "                                           Keys  same_frame  \\\n",
       "0     '02cf0ce1-699a-373b-86c0-eb6fd5f4697a', 0           0   \n",
       "1     '02cf0ce1-699a-373b-86c0-eb6fd5f4697a', 1           1   \n",
       "2    '02cf0ce1-699a-373b-86c0-eb6fd5f4697a', 32          32   \n",
       "3    '02cf0ce1-699a-373b-86c0-eb6fd5f4697a', 49          49   \n",
       "4    '02cf0ce1-699a-373b-86c0-eb6fd5f4697a', 59          59   \n",
       "5    '02cf0ce1-699a-373b-86c0-eb6fd5f4697a', 65          65   \n",
       "6    '02cf0ce1-699a-373b-86c0-eb6fd5f4697a', 72          72   \n",
       "7    '02cf0ce1-699a-373b-86c0-eb6fd5f4697a', 84          84   \n",
       "8    '02cf0ce1-699a-373b-86c0-eb6fd5f4697a', 87          87   \n",
       "9    '02cf0ce1-699a-373b-86c0-eb6fd5f4697a', 88          88   \n",
       "10   '02cf0ce1-699a-373b-86c0-eb6fd5f4697a', 93          93   \n",
       "11   '02cf0ce1-699a-373b-86c0-eb6fd5f4697a', 99          99   \n",
       "12  '02cf0ce1-699a-373b-86c0-eb6fd5f4697a', 114         114   \n",
       "13  '02cf0ce1-699a-373b-86c0-eb6fd5f4697a', 116         116   \n",
       "14  '02cf0ce1-699a-373b-86c0-eb6fd5f4697a', 125         125   \n",
       "15  '02cf0ce1-699a-373b-86c0-eb6fd5f4697a', 126         126   \n",
       "16  '02cf0ce1-699a-373b-86c0-eb6fd5f4697a', 135         135   \n",
       "17  '02cf0ce1-699a-373b-86c0-eb6fd5f4697a', 138         138   \n",
       "18  '02cf0ce1-699a-373b-86c0-eb6fd5f4697a', 142         142   \n",
       "19  '02cf0ce1-699a-373b-86c0-eb6fd5f4697a', 145         145   \n",
       "20  '02cf0ce1-699a-373b-86c0-eb6fd5f4697a', 146         146   \n",
       "21  '02cf0ce1-699a-373b-86c0-eb6fd5f4697a', 151         151   \n",
       "22    '043aeba7-14e5-3cde-8a5c-639389b6d3a6', 0           0   \n",
       "23    '043aeba7-14e5-3cde-8a5c-639389b6d3a6', 1           1   \n",
       "24    '043aeba7-14e5-3cde-8a5c-639389b6d3a6', 2           2   \n",
       "\n",
       "                                   logId  frame  \n",
       "0   02cf0ce1-699a-373b-86c0-eb6fd5f4697a      0  \n",
       "1   02cf0ce1-699a-373b-86c0-eb6fd5f4697a      1  \n",
       "2   02cf0ce1-699a-373b-86c0-eb6fd5f4697a     32  \n",
       "3   02cf0ce1-699a-373b-86c0-eb6fd5f4697a     49  \n",
       "4   02cf0ce1-699a-373b-86c0-eb6fd5f4697a     59  \n",
       "5   02cf0ce1-699a-373b-86c0-eb6fd5f4697a     65  \n",
       "6   02cf0ce1-699a-373b-86c0-eb6fd5f4697a     72  \n",
       "7   02cf0ce1-699a-373b-86c0-eb6fd5f4697a     84  \n",
       "8   02cf0ce1-699a-373b-86c0-eb6fd5f4697a     87  \n",
       "9   02cf0ce1-699a-373b-86c0-eb6fd5f4697a     88  \n",
       "10  02cf0ce1-699a-373b-86c0-eb6fd5f4697a     93  \n",
       "11  02cf0ce1-699a-373b-86c0-eb6fd5f4697a     99  \n",
       "12  02cf0ce1-699a-373b-86c0-eb6fd5f4697a    114  \n",
       "13  02cf0ce1-699a-373b-86c0-eb6fd5f4697a    116  \n",
       "14  02cf0ce1-699a-373b-86c0-eb6fd5f4697a    125  \n",
       "15  02cf0ce1-699a-373b-86c0-eb6fd5f4697a    126  \n",
       "16  02cf0ce1-699a-373b-86c0-eb6fd5f4697a    135  \n",
       "17  02cf0ce1-699a-373b-86c0-eb6fd5f4697a    138  \n",
       "18  02cf0ce1-699a-373b-86c0-eb6fd5f4697a    142  \n",
       "19  02cf0ce1-699a-373b-86c0-eb6fd5f4697a    145  \n",
       "20  02cf0ce1-699a-373b-86c0-eb6fd5f4697a    146  \n",
       "21  02cf0ce1-699a-373b-86c0-eb6fd5f4697a    151  \n",
       "22  043aeba7-14e5-3cde-8a5c-639389b6d3a6      0  \n",
       "23  043aeba7-14e5-3cde-8a5c-639389b6d3a6      1  \n",
       "24  043aeba7-14e5-3cde-8a5c-639389b6d3a6      2  "
      ]
     },
     "execution_count": 10,
     "metadata": {},
     "output_type": "execute_result"
    }
   ],
   "source": [
    "uniqueFrame = same_frame_df.drop_duplicates(subset=[\"same_frame\", \"logId\"], keep='first')\n",
    "uniqueFrame.reset_index(drop=True, inplace= True)\n",
    "print(len(uniqueFrame))\n",
    "unique_frame_dict = uniqueFrame[[\"same_frame\", \"logId\"]].to_dict(orient=\"index\")\n",
    "uniqueFrame.iloc[:25]\n"
   ]
  },
  {
   "cell_type": "code",
   "execution_count": 11,
   "id": "0fb040dd",
   "metadata": {},
   "outputs": [],
   "source": [
    "\n"
   ]
  },
  {
   "cell_type": "code",
   "execution_count": 43,
   "id": "15aa894a",
   "metadata": {},
   "outputs": [],
   "source": [
    "# 给3000多帧分配一个index 存为json后Index变成了str需注意！！！！！！！！！！！！！！！##################################"
   ]
  },
  {
   "cell_type": "code",
   "execution_count": 41,
   "id": "d778ed7b",
   "metadata": {},
   "outputs": [],
   "source": [
    "# import json\n",
    "# jsonWriter = open(\"../public/procressData/index_frame_dict.json\", 'w')\n",
    "# jsonWriter.write(json.dumps(unique_frame_dict))\n",
    "# jsonWriter.close()"
   ]
  },
  {
   "cell_type": "code",
   "execution_count": 8,
   "id": "d938c810",
   "metadata": {},
   "outputs": [
    {
     "data": {
      "text/plain": [
       "{'same_frame': 0, 'logId': '02cf0ce1-699a-373b-86c0-eb6fd5f4697a'}"
      ]
     },
     "execution_count": 8,
     "metadata": {},
     "output_type": "execute_result"
    }
   ],
   "source": [
    "unique_frame_dict[0]"
   ]
  },
  {
   "cell_type": "code",
   "execution_count": 12,
   "id": "822e3126",
   "metadata": {},
   "outputs": [],
   "source": [
    "from tqdm import tqdm\n",
    "import multiprocessing as mp"
   ]
  },
  {
   "cell_type": "code",
   "execution_count": 19,
   "id": "939d973a",
   "metadata": {},
   "outputs": [],
   "source": [
    "resDict = {}"
   ]
  },
  {
   "cell_type": "code",
   "execution_count": 13,
   "id": "19baa999",
   "metadata": {},
   "outputs": [],
   "source": [
    "def get_distances(source_index, allGraph, unique_frame_dict):\n",
    "    distance_dict = {}\n",
    "    frame_dictA = unique_frame_dict[source_index]\n",
    "    graph_dictA = allGraph[frame_dictA[\"logId\"]][str(frame_dictA[\"same_frame\"])]\n",
    "    for target_index in range(len(unique_frame_dict)):\n",
    "        frame_dictB = unique_frame_dict[target_index]\n",
    "        graph_dictB = allGraph[frame_dictB[\"logId\"]][str(frame_dictB[\"same_frame\"])]\n",
    "        distance = nx.graph_edit_distance(graph_dictA[\"edgesGraph\"], graph_dictB[\"edgesGraph\"],  roots = (\"ego\", \"ego\"),  timeout = 2) + \\\n",
    "    abs(graph_dictA['freeVeh'] - graph_dictB['freeVeh']) + abs(graph_dictA['freePeo'] - graph_dictB['freePeo'])\n",
    "        distance_dict[target_index] = distance\n",
    "    return {source_index: distance_dict}"
   ]
  },
  {
   "cell_type": "code",
   "execution_count": 14,
   "id": "688a80a3",
   "metadata": {},
   "outputs": [],
   "source": [
    "num_cores = int(mp.cpu_count())\n",
    "        \n",
    "pool = mp.Pool(num_cores)"
   ]
  },
  {
   "cell_type": "code",
   "execution_count": 15,
   "id": "9f2d4b27",
   "metadata": {},
   "outputs": [],
   "source": [
    "index_start = 0\n",
    "index_end = 32"
   ]
  },
  {
   "cell_type": "code",
   "execution_count": null,
   "id": "a3bbb2c8",
   "metadata": {},
   "outputs": [],
   "source": [
    "index_start = 32\n",
    "index_end = 128"
   ]
  },
  {
   "cell_type": "code",
   "execution_count": 16,
   "id": "09dbceda",
   "metadata": {},
   "outputs": [],
   "source": [
    "results = [pool.apply_async(get_distances, args=(source_index_, allGraph, unique_frame_dict)) for source_index_ in range(index_start, index_end)]\n",
    "results = [p.get() for p in results]"
   ]
  },
  {
   "cell_type": "code",
   "execution_count": null,
   "id": "6f644102",
   "metadata": {},
   "outputs": [],
   "source": [
    "jsonWriter = open(\"../public/procressData/distance/\"+index_start+\"_\" + index_end+\".json\", 'w')\n",
    "jsonWriter.write(json.dumps(results))\n",
    "jsonWriter.close()"
   ]
  },
  {
   "cell_type": "code",
   "execution_count": 35,
   "id": "200ccf9d",
   "metadata": {},
   "outputs": [
    {
     "name": "stderr",
     "output_type": "stream",
     "text": [
      "100%|██████████| 500/500 [02:23<00:00,  3.48it/s]\n"
     ]
    }
   ],
   "source": [
    "for i in range(1):\n",
    "    frame_dictA = unique_frame_dict[i]\n",
    "    graph_dictA = allGraph[frame_dictA[\"logId\"]][str(frame_dictA[\"same_frame\"])]\n",
    "    for j in tqdm(range(500)):\n",
    "        frame_dictB = unique_frame_dict[j]\n",
    "        graph_dictB = allGraph[frame_dictB[\"logId\"]][str(frame_dictB[\"same_frame\"])]\n",
    "        distance = nx.graph_edit_distance(graph_dictA[\"edgesGraph\"], graph_dictB[\"edgesGraph\"],  roots = (\"ego\", \"ego\"),  timeout = 2) + \\\n",
    "    abs(graph_dictA['freeVeh'] - graph_dictB['freeVeh']) + abs(graph_dictA['freePeo'] - graph_dictB['freePeo'])\n",
    "        resDict[i, j] = distance"
   ]
  },
  {
   "cell_type": "code",
   "execution_count": 34,
   "id": "23dff483",
   "metadata": {},
   "outputs": [
    {
     "data": {
      "text/plain": [
       "NodeView(('ego', '20001015', 'dadaddd9-90cb-452c-a509-1e9bfeecb24a', '20001014', '8748e228-b500-413c-9a2a-361c4d9bb324', '09c74378-9527-4842-814e-9df7ea97a286', 'f309a431-c6aa-4e24-97a5-73a0f3ac12b6', '7c058005-603f-4cf8-9846-4e8f05071532', '20001628'))"
      ]
     },
     "execution_count": 34,
     "metadata": {},
     "output_type": "execute_result"
    }
   ],
   "source": [
    "allGraph[frame_dictB[\"logId\"]][str(frame_dictB[\"same_frame\"])][\"edgesGraph\"].nodes"
   ]
  },
  {
   "cell_type": "code",
   "execution_count": 21,
   "id": "a6c9849c",
   "metadata": {},
   "outputs": [
    {
     "data": {
      "text/plain": [
       "447"
      ]
     },
     "execution_count": 21,
     "metadata": {},
     "output_type": "execute_result"
    }
   ],
   "source": [
    "j"
   ]
  },
  {
   "cell_type": "code",
   "execution_count": 18,
   "id": "42fbcbcd",
   "metadata": {},
   "outputs": [
    {
     "data": {
      "text/plain": [
       "38.0"
      ]
     },
     "execution_count": 18,
     "metadata": {},
     "output_type": "execute_result"
    }
   ],
   "source": [
    "nx.graph_edit_distance(graph_dictA[\"edgesGraph\"], graph_dictB[\"edgesGraph\"],  roots = (\"ego\", \"ego\"),  timeout = 2) + \\\n",
    "    abs(graph_dictA['freeVeh'] - graph_dictB['freeVeh']) + abs(graph_dictA['freePeo'] - graph_dictB['freePeo'])"
   ]
  },
  {
   "cell_type": "code",
   "execution_count": 14,
   "id": "b639e90c",
   "metadata": {},
   "outputs": [
    {
     "data": {
      "text/plain": [
       "{'graph': <networkx.classes.graph.Graph at 0x196546335e0>,\n",
       " 'egoInfos': ('ego',\n",
       "  {'label_class': 'ego',\n",
       "   'speed': 22.011210315302463,\n",
       "   'acceleration': 1.5262151701431392,\n",
       "   'yawDiff': 0.023420526610522}),\n",
       " 'nodes_num': 20,\n",
       " 'freeVeh': 17,\n",
       " 'freePeo': 1,\n",
       " 'edgesGraph': <networkx.classes.graph.Graph at 0x1965ac91df0>}"
      ]
     },
     "execution_count": 14,
     "metadata": {},
     "output_type": "execute_result"
    }
   ],
   "source": [
    "graph_dictB\n",
    "# allGraph[\"02cf0ce1-699a-373b-86c0-eb6fd5f4697a\"].keys()"
   ]
  },
  {
   "cell_type": "code",
   "execution_count": 17,
   "id": "4a31654b",
   "metadata": {},
   "outputs": [
    {
     "data": {
      "text/plain": [
       "EdgeView([('ego', '20001832'), ('202d03cb-5d63-4778-99ae-b8dce3131f56', '20001615'), ('90fd0e09-9f50-4851-9fe6-39e86bf97910', '20001615'), ('7c256186-f727-4a2c-87fd-c57782364f8d', '20001173'), ('b54f4151-e692-4f42-8803-842e25e91495', '20001615'), ('f632b2f0-f72c-4d7a-9f7f-b7e70a0b1cb3', '20001832'), ('f14cbbe5-81de-4c80-ba6c-3b6ba593cf34', '20001834'), ('ed5d6f51-652d-4a28-8df2-e79c4fba8ceb', '20001832'), ('20001615', '20001832'), ('20001615', '20001834'), ('20001173', '20001834')])"
      ]
     },
     "execution_count": 17,
     "metadata": {},
     "output_type": "execute_result"
    }
   ],
   "source": [
    "graph_dictA[\"edgesGraph\"].edges"
   ]
  },
  {
   "cell_type": "code",
   "execution_count": null,
   "id": "872780cd",
   "metadata": {},
   "outputs": [],
   "source": []
  },
  {
   "cell_type": "code",
   "execution_count": 38,
   "id": "2bb99c15",
   "metadata": {},
   "outputs": [],
   "source": [
    "d1 = allGraph[\"e9bb51af-1112-34c2-be3e-7ebe826649b4\"]['1']"
   ]
  },
  {
   "cell_type": "code",
   "execution_count": 40,
   "id": "57657909",
   "metadata": {},
   "outputs": [],
   "source": [
    "d2 = allGraph[\"e9bb51af-1112-34c2-be3e-7ebe826649b4\"]['2']"
   ]
  },
  {
   "cell_type": "code",
   "execution_count": 47,
   "id": "96d9f69e",
   "metadata": {},
   "outputs": [
    {
     "data": {
      "text/plain": [
       "0.0"
      ]
     },
     "execution_count": 47,
     "metadata": {},
     "output_type": "execute_result"
    }
   ],
   "source": [
    "nx.graph_edit_distance(d1[\"edgesGraph\"], d2[\"edgesGraph\"],  roots = (\"ego\", \"ego\"))"
   ]
  },
  {
   "cell_type": "code",
   "execution_count": 46,
   "id": "34129e65",
   "metadata": {},
   "outputs": [
    {
     "data": {
      "text/plain": [
       "820.2321111111111"
      ]
     },
     "execution_count": 46,
     "metadata": {},
     "output_type": "execute_result"
    }
   ],
   "source": [
    "5434 * 5434 * 1 / 60 / 60 /10"
   ]
  },
  {
   "cell_type": "code",
   "execution_count": null,
   "id": "93660572",
   "metadata": {},
   "outputs": [],
   "source": [
    "[g1.subgraph(c).copy() for c in nx.connected_components(g1) if len(c)>1]"
   ]
  }
 ],
 "metadata": {
  "kernelspec": {
   "display_name": "Python 3 (ipykernel)",
   "language": "python",
   "name": "python3"
  },
  "language_info": {
   "codemirror_mode": {
    "name": "ipython",
    "version": 3
   },
   "file_extension": ".py",
   "mimetype": "text/x-python",
   "name": "python",
   "nbconvert_exporter": "python",
   "pygments_lexer": "ipython3",
   "version": "3.9.12"
  },
  "toc": {
   "base_numbering": 1,
   "nav_menu": {},
   "number_sections": true,
   "sideBar": true,
   "skip_h1_title": false,
   "title_cell": "Table of Contents",
   "title_sidebar": "Contents",
   "toc_cell": false,
   "toc_position": {},
   "toc_section_display": true,
   "toc_window_display": false
  },
  "vscode": {
   "interpreter": {
    "hash": "5179d32cf6ec497baf3f8a3ef987cc77c5d2dc691fdde20a56316522f61a7323"
   }
  }
 },
 "nbformat": 4,
 "nbformat_minor": 5
}
