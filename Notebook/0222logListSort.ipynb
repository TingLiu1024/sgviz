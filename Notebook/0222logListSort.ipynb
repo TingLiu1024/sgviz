{
 "cells": [
  {
   "cell_type": "code",
   "execution_count": 1,
   "metadata": {},
   "outputs": [
    {
     "data": {
      "text/plain": [
       "{'allLogs': ['26d141ec-f952-3908-b4cc-ae359377424e',\n",
       "  '84c35ea7-1a99-3a0c-a3ea-c5915d68acbc',\n",
       "  '230970eb-dc2e-3133-b252-ff3c6f5d4284',\n",
       "  'f3fb839e-0aa2-342b-81c3-312b80be44f9',\n",
       "  'e17eed4f-3ffd-3532-ab89-41a3f24cf226',\n",
       "  '8a15674a-ae5c-38e2-bc4b-f4156d384072',\n",
       "  '10b8dee6-778f-33e4-a946-d842d2d9c3d7',\n",
       "  '3d20ae25-5b29-320d-8bae-f03e9dc177b9',\n",
       "  'b3def699-884b-3c9e-87e1-1ab76c618e0b',\n",
       "  'c6911883-1843-3727-8eaa-41dc8cda8993',\n",
       "  '64c12551-adb9-36e3-a0c1-e43a0e9f3845',\n",
       "  '273c1883-673a-36bf-b124-88311b1a80be',\n",
       "  'dcdcd8b3-0ba1-3218-b2ea-7bb965aad3f0',\n",
       "  '043aeba7-14e5-3cde-8a5c-639389b6d3a6',\n",
       "  'a073e840-6319-3f0b-843e-f6dccdcc7b77',\n",
       "  '6f153f9c-edc5-389f-ac6f-40705c30d97e',\n",
       "  '02cf0ce1-699a-373b-86c0-eb6fd5f4697a',\n",
       "  '4137e94a-c5da-38bd-ad06-6d57b24bccd0',\n",
       "  'fb471bd6-7c81-3d93-ad12-ac54a28beb84',\n",
       "  'ebe7a98b-d383-343b-96d6-9e681e2c6a36',\n",
       "  '577ea60d-7cc0-34a4-a8ff-0401e5ab9c62',\n",
       "  'fa0b626f-03df-35a0-8447-021088814b8b',\n",
       "  '0ef28d5c-ae34-370b-99e7-6709e1c4b929',\n",
       "  'f0826a9f-f46e-3c27-97af-87a77f7899cd',\n",
       "  '53213cf0-540b-3b5a-9900-d24d1d41bda0',\n",
       "  'd60558d2-d1aa-34ee-a902-e061e346e02a',\n",
       "  '3138907e-1f8a-362f-8f3d-773f795a0d01',\n",
       "  'd4d9e91f-0f8e-334d-bd0e-0d062467308a',\n",
       "  'de777454-df62-3d5a-a1ce-2edb5e5d4922',\n",
       "  'ff78e1a3-6deb-34a4-9a1f-b85e34980f06',\n",
       "  'a6cab660-f086-3e2a-8ad9-7144f93f5b68',\n",
       "  'cd38ac0b-c5a6-3743-a148-f4f7b804ed17',\n",
       "  'aebe6aaa-6a95-39e6-9a8d-06103141fcde',\n",
       "  '6c739f57-96d0-33e6-972d-af29cc527e1f',\n",
       "  'e9bb51af-1112-34c2-be3e-7ebe826649b4',\n",
       "  '649750f3-0163-34eb-a102-7aaf5384eaec',\n",
       "  '08a8b7f0-c317-3bdb-b3dc-b7c9b6d033e2',\n",
       "  '99c45b6e-6fc7-39b8-80d7-727c485fb561',\n",
       "  'af706af1-a226-3f6f-8d65-b1f4b9457c48',\n",
       "  '10f92308-e06e-3725-a302-4b09e6e790ad',\n",
       "  '52af191b-ba56-326c-b569-e37790db40f3',\n",
       "  'ba067318-0d89-34b5-b577-b171b1a4212b',\n",
       "  '919be600-da69-3f09-b0fd-f42f7eb2e097',\n",
       "  '2c07fcda-6671-3ac0-ac23-4a232e0e031e',\n",
       "  '2bc6a872-9979-3493-82eb-fb55407473c9',\n",
       "  '15c802a9-0f0e-3c87-b516-a3fa02f1ecb0',\n",
       "  '49d66e75-3ce6-316b-b589-f659c7ef5e6d']}"
      ]
     },
     "execution_count": 1,
     "metadata": {},
     "output_type": "execute_result"
    }
   ],
   "source": [
    "import json\n",
    "with open(\"../public/logList.json\", 'r') as f:\n",
    "    data = json.load(f)\n",
    "data"
   ]
  },
  {
   "cell_type": "code",
   "execution_count": 2,
   "metadata": {},
   "outputs": [
    {
     "data": {
      "text/plain": [
       "dict_keys(['allLogs'])"
      ]
     },
     "execution_count": 2,
     "metadata": {},
     "output_type": "execute_result"
    }
   ],
   "source": [
    "data.keys()"
   ]
  },
  {
   "cell_type": "code",
   "execution_count": 3,
   "metadata": {},
   "outputs": [],
   "source": [
    "data['allLogs'].sort()"
   ]
  },
  {
   "cell_type": "code",
   "execution_count": 4,
   "metadata": {},
   "outputs": [
    {
     "data": {
      "text/plain": [
       "['02cf0ce1-699a-373b-86c0-eb6fd5f4697a',\n",
       " '043aeba7-14e5-3cde-8a5c-639389b6d3a6',\n",
       " '08a8b7f0-c317-3bdb-b3dc-b7c9b6d033e2',\n",
       " '0ef28d5c-ae34-370b-99e7-6709e1c4b929',\n",
       " '10b8dee6-778f-33e4-a946-d842d2d9c3d7',\n",
       " '10f92308-e06e-3725-a302-4b09e6e790ad',\n",
       " '15c802a9-0f0e-3c87-b516-a3fa02f1ecb0',\n",
       " '230970eb-dc2e-3133-b252-ff3c6f5d4284',\n",
       " '26d141ec-f952-3908-b4cc-ae359377424e',\n",
       " '273c1883-673a-36bf-b124-88311b1a80be',\n",
       " '2bc6a872-9979-3493-82eb-fb55407473c9',\n",
       " '2c07fcda-6671-3ac0-ac23-4a232e0e031e',\n",
       " '3138907e-1f8a-362f-8f3d-773f795a0d01',\n",
       " '3d20ae25-5b29-320d-8bae-f03e9dc177b9',\n",
       " '4137e94a-c5da-38bd-ad06-6d57b24bccd0',\n",
       " '49d66e75-3ce6-316b-b589-f659c7ef5e6d',\n",
       " '52af191b-ba56-326c-b569-e37790db40f3',\n",
       " '53213cf0-540b-3b5a-9900-d24d1d41bda0',\n",
       " '577ea60d-7cc0-34a4-a8ff-0401e5ab9c62',\n",
       " '649750f3-0163-34eb-a102-7aaf5384eaec',\n",
       " '64c12551-adb9-36e3-a0c1-e43a0e9f3845',\n",
       " '6c739f57-96d0-33e6-972d-af29cc527e1f',\n",
       " '6f153f9c-edc5-389f-ac6f-40705c30d97e',\n",
       " '84c35ea7-1a99-3a0c-a3ea-c5915d68acbc',\n",
       " '8a15674a-ae5c-38e2-bc4b-f4156d384072',\n",
       " '919be600-da69-3f09-b0fd-f42f7eb2e097',\n",
       " '99c45b6e-6fc7-39b8-80d7-727c485fb561',\n",
       " 'a073e840-6319-3f0b-843e-f6dccdcc7b77',\n",
       " 'a6cab660-f086-3e2a-8ad9-7144f93f5b68',\n",
       " 'aebe6aaa-6a95-39e6-9a8d-06103141fcde',\n",
       " 'af706af1-a226-3f6f-8d65-b1f4b9457c48',\n",
       " 'b3def699-884b-3c9e-87e1-1ab76c618e0b',\n",
       " 'ba067318-0d89-34b5-b577-b171b1a4212b',\n",
       " 'c6911883-1843-3727-8eaa-41dc8cda8993',\n",
       " 'cd38ac0b-c5a6-3743-a148-f4f7b804ed17',\n",
       " 'd4d9e91f-0f8e-334d-bd0e-0d062467308a',\n",
       " 'd60558d2-d1aa-34ee-a902-e061e346e02a',\n",
       " 'dcdcd8b3-0ba1-3218-b2ea-7bb965aad3f0',\n",
       " 'de777454-df62-3d5a-a1ce-2edb5e5d4922',\n",
       " 'e17eed4f-3ffd-3532-ab89-41a3f24cf226',\n",
       " 'e9bb51af-1112-34c2-be3e-7ebe826649b4',\n",
       " 'ebe7a98b-d383-343b-96d6-9e681e2c6a36',\n",
       " 'f0826a9f-f46e-3c27-97af-87a77f7899cd',\n",
       " 'f3fb839e-0aa2-342b-81c3-312b80be44f9',\n",
       " 'fa0b626f-03df-35a0-8447-021088814b8b',\n",
       " 'fb471bd6-7c81-3d93-ad12-ac54a28beb84',\n",
       " 'ff78e1a3-6deb-34a4-9a1f-b85e34980f06']"
      ]
     },
     "execution_count": 4,
     "metadata": {},
     "output_type": "execute_result"
    }
   ],
   "source": [
    "data['allLogs']"
   ]
  },
  {
   "cell_type": "code",
   "execution_count": 5,
   "metadata": {},
   "outputs": [],
   "source": [
    "with open(\"../public/logList.json\", 'w') as f:\n",
    "    f.write(json.dumps(data))\n",
    "    f.close()"
   ]
  },
  {
   "cell_type": "code",
   "execution_count": null,
   "metadata": {},
   "outputs": [],
   "source": []
  }
 ],
 "metadata": {
  "kernelspec": {
   "display_name": "base",
   "language": "python",
   "name": "python3"
  },
  "language_info": {
   "codemirror_mode": {
    "name": "ipython",
    "version": 3
   },
   "file_extension": ".py",
   "mimetype": "text/x-python",
   "name": "python",
   "nbconvert_exporter": "python",
   "pygments_lexer": "ipython3",
   "version": "3.9.12"
  },
  "orig_nbformat": 4,
  "vscode": {
   "interpreter": {
    "hash": "5179d32cf6ec497baf3f8a3ef987cc77c5d2dc691fdde20a56316522f61a7323"
   }
  }
 },
 "nbformat": 4,
 "nbformat_minor": 2
}
