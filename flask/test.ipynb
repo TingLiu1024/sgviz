{
 "cells": [
  {
   "cell_type": "code",
   "execution_count": null,
   "metadata": {},
   "outputs": [
    {
     "name": "stdout",
     "output_type": "stream",
     "text": [
      "0\n",
      "8\n",
      "16\n",
      "24\n"
     ]
    },
    {
     "ename": "",
     "evalue": "",
     "output_type": "error",
     "traceback": [
      "\u001b[1;31mThe Kernel crashed while executing code in the the current cell or a previous cell. Please review the code in the cell(s) to identify a possible cause of the failure. Click <a href='https://aka.ms/vscodeJupyterKernelCrash'>here</a> for more info. View Jupyter <a href='command:jupyter.viewOutput'>log</a> for further details."
     ]
    }
   ],
   "source": [
    "for i in range(0, 47, 16):\n",
    "    print(i)"
   ]
  },
  {
   "cell_type": "code",
   "execution_count": null,
   "metadata": {},
   "outputs": [],
   "source": [
    "from flask import Flask\n",
    "from flask_cors import CORS\n",
    "from flask import request\n",
    "import pandas as pd\n",
    "import json\n",
    "import math\n",
    "import datetime\n",
    "import multiprocessing as mp\n",
    "import numpy as np\n",
    "import pickle\n",
    "import networkx as nx\n",
    "\n",
    "\n",
    "import errno\n",
    "import os\n",
    "import signal\n",
    "import functools\n",
    "import threading\n",
    "from time import ctime, sleep\n",
    "from func_timeout import func_set_timeout\n",
    "import time\n",
    "import datetime\n",
    "import func_timeout\n",
    "\n",
    "@func_set_timeout(20)\n",
    "def subgraph_is_isomorphic(cmp, frame):\n",
    "    if cmp.subgraph_is_isomorphic():\n",
    "        # print(frame)\n",
    "        return True\n",
    "    return False\n",
    "\n",
    "# 读取数据\n",
    "\n",
    "with open('../public/dataDi.pickle', 'rb') as f:\n",
    "    networkData = pickle.load(f)\n",
    "    allGraph = {}\n",
    "    for logId in list(networkData.keys()):\n",
    "        logData = networkData[logId]\n",
    "        graphData = {}\n",
    "        for frm in logData[\"frames\"]:\n",
    "            G = nx.DiGraph()\n",
    "            G.add_nodes_from(logData[str(frm)][\"nodes\"])\n",
    "            G.add_edges_from(logData[str(frm)][\"edges\"])\n",
    "            graphData[str(frm)] = {'graph': G, 'egoInfos': logData[str(frm)][\"ego\"]}\n",
    "        allGraph[logId] = graphData\n",
    "logList = list(networkData.keys())\n",
    "print(len(logList))"
   ]
  },
  {
   "cell_type": "code",
   "execution_count": null,
   "metadata": {},
   "outputs": [],
   "source": []
  }
 ],
 "metadata": {
  "kernelspec": {
   "display_name": "Python 3.8.13 ('argo')",
   "language": "python",
   "name": "python3"
  },
  "language_info": {
   "name": "python",
   "version": "3.8.13"
  },
  "orig_nbformat": 4,
  "vscode": {
   "interpreter": {
    "hash": "74dd12f1de9530dbded7158339153b2c3cdc077925deecb2fa706e84f3898cf4"
   }
  }
 },
 "nbformat": 4,
 "nbformat_minor": 2
}
